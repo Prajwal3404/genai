{
  "nbformat": 4,
  "nbformat_minor": 0,
  "metadata": {
    "colab": {
      "provenance": []
    },
    "kernelspec": {
      "name": "python3",
      "display_name": "Python 3"
    },
    "language_info": {
      "name": "python"
    }
  },
  "cells": [
    {
      "cell_type": "code",
      "source": [
        "!pip install diffprivlib\n"
      ],
      "metadata": {
        "colab": {
          "base_uri": "https://localhost:8080/"
        },
        "id": "diDo7B_IfRs9",
        "outputId": "70e34025-c19a-48b0-a439-669074d6ad60"
      },
      "execution_count": 1,
      "outputs": [
        {
          "output_type": "stream",
          "name": "stdout",
          "text": [
            "Requirement already satisfied: diffprivlib in /usr/local/lib/python3.10/dist-packages (0.6.5)\n",
            "Requirement already satisfied: numpy>=1.21.6 in /usr/local/lib/python3.10/dist-packages (from diffprivlib) (1.24.4)\n",
            "Requirement already satisfied: scikit-learn>=0.24.2 in /usr/local/lib/python3.10/dist-packages (from diffprivlib) (1.5.2)\n",
            "Requirement already satisfied: scipy>=1.7.3 in /usr/local/lib/python3.10/dist-packages (from diffprivlib) (1.13.1)\n",
            "Requirement already satisfied: joblib>=0.16.0 in /usr/local/lib/python3.10/dist-packages (from diffprivlib) (1.4.2)\n",
            "Requirement already satisfied: setuptools>=49.0.0 in /usr/local/lib/python3.10/dist-packages (from diffprivlib) (75.1.0)\n",
            "Requirement already satisfied: threadpoolctl>=3.1.0 in /usr/local/lib/python3.10/dist-packages (from scikit-learn>=0.24.2->diffprivlib) (3.5.0)\n"
          ]
        }
      ]
    },
    {
      "cell_type": "code",
      "execution_count": 2,
      "metadata": {
        "colab": {
          "base_uri": "https://localhost:8080/"
        },
        "id": "ultWVlj8e6o0",
        "outputId": "00eea3d5-6c71-44d7-b79c-fbf7cdafcec0"
      },
      "outputs": [
        {
          "output_type": "stream",
          "name": "stdout",
          "text": [
            "Original Data: [1 2 3 4 5]\n",
            "Differentially Private Data: [-0.97615531  1.93246116  3.84757153  3.98720016  6.46337307]\n"
          ]
        }
      ],
      "source": [
        "import numpy as np\n",
        "from diffprivlib import mechanisms\n",
        "\n",
        "# Sample data\n",
        "data = np.array([1, 2, 3, 4, 5])\n",
        "\n",
        "# Applying Laplace mechanism for differential privacy\n",
        "dp_mech = mechanisms.Laplace(epsilon=1.0, sensitivity=1.0)\n",
        "\n",
        "# Randomize each element in the array\n",
        "dp_data = np.array([dp_mech.randomise(x) for x in data])\n",
        "\n",
        "print(\"Original Data:\", data)\n",
        "print(\"Differentially Private Data:\", dp_data)\n"
      ]
    },
    {
      "cell_type": "code",
      "source": [
        "!pip install pip==20.3.4\n"
      ],
      "metadata": {
        "colab": {
          "base_uri": "https://localhost:8080/"
        },
        "id": "gEjmPvMy6nGv",
        "outputId": "5a194a14-961b-4bb2-bcb9-f770bdf6f4e1"
      },
      "execution_count": 10,
      "outputs": [
        {
          "output_type": "stream",
          "name": "stdout",
          "text": [
            "Collecting pip==20.3.4\n",
            "  Downloading pip-20.3.4-py2.py3-none-any.whl.metadata (4.3 kB)\n",
            "Downloading pip-20.3.4-py2.py3-none-any.whl (1.5 MB)\n",
            "\u001b[2K   \u001b[90m━━━━━━━━━━━━━━━━━━━━━━━━━━━━━━━━━━━━━━━━\u001b[0m \u001b[32m1.5/1.5 MB\u001b[0m \u001b[31m15.6 MB/s\u001b[0m eta \u001b[36m0:00:00\u001b[0m\n",
            "\u001b[?25hInstalling collected packages: pip\n",
            "  Attempting uninstall: pip\n",
            "    Found existing installation: pip 24.1.2\n",
            "    Uninstalling pip-24.1.2:\n",
            "      Successfully uninstalled pip-24.1.2\n",
            "Successfully installed pip-20.3.4\n"
          ]
        }
      ]
    },
    {
      "cell_type": "code",
      "source": [
        "!pip install pycryptodome\n"
      ],
      "metadata": {
        "colab": {
          "base_uri": "https://localhost:8080/"
        },
        "id": "ylal7raL6C6h",
        "outputId": "dea0a611-97d9-4f5d-9d37-6d1af901c96f"
      },
      "execution_count": 6,
      "outputs": [
        {
          "output_type": "stream",
          "name": "stdout",
          "text": [
            "Collecting pycryptodome\n",
            "  Downloading pycryptodome-3.21.0-cp36-abi3-manylinux_2_17_x86_64.manylinux2014_x86_64.whl.metadata (3.4 kB)\n",
            "Downloading pycryptodome-3.21.0-cp36-abi3-manylinux_2_17_x86_64.manylinux2014_x86_64.whl (2.3 MB)\n",
            "\u001b[2K   \u001b[90m━━━━━━━━━━━━━━━━━━━━━━━━━━━━━━━━━━━━━━━━\u001b[0m \u001b[32m2.3/2.3 MB\u001b[0m \u001b[31m16.6 MB/s\u001b[0m eta \u001b[36m0:00:00\u001b[0m\n",
            "\u001b[?25hInstalling collected packages: pycryptodome\n",
            "Successfully installed pycryptodome-3.21.0\n"
          ]
        }
      ]
    },
    {
      "cell_type": "code",
      "source": [
        "from Crypto.PublicKey import RSA\n",
        "print(\"PyCryptodome is installed successfully!\")\n"
      ],
      "metadata": {
        "colab": {
          "base_uri": "https://localhost:8080/"
        },
        "id": "PfjxKt6j6LpU",
        "outputId": "7e5cb621-6bc9-471d-818a-09bd0881d427"
      },
      "execution_count": 7,
      "outputs": [
        {
          "output_type": "stream",
          "name": "stdout",
          "text": [
            "PyCryptodome is installed successfully!\n"
          ]
        }
      ]
    },
    {
      "cell_type": "code",
      "source": [
        "from Crypto.PublicKey import RSA\n",
        "from Crypto.Cipher import PKCS1_OAEP\n",
        "\n",
        "# RSA Key generation for secure computation\n",
        "key = RSA.generate(2048)\n",
        "private_key = key.export_key()\n",
        "public_key = key.publickey().export_key()\n",
        "\n",
        "# Encryption\n",
        "cipher = PKCS1_OAEP.new(RSA.import_key(public_key))\n",
        "encrypted_data = cipher.encrypt(b\"Sensitive Data\")\n",
        "\n",
        "# Decryption (for privacy-preserving computation)\n",
        "decipher = PKCS1_OAEP.new(RSA.import_key(private_key))\n",
        "decrypted_data = decipher.decrypt(encrypted_data)\n",
        "\n",
        "print(\"Encrypted Data:\", encrypted_data)\n",
        "print(\"Decrypted Data:\", decrypted_data.decode())\n"
      ],
      "metadata": {
        "colab": {
          "base_uri": "https://localhost:8080/"
        },
        "id": "BFNRuTRwfIH2",
        "outputId": "0067a21a-e3f2-4933-eae3-9cbee3d771bd"
      },
      "execution_count": 8,
      "outputs": [
        {
          "output_type": "stream",
          "name": "stdout",
          "text": [
            "Encrypted Data: b'5d\\xa3\\xc5?uRZ\\xd2\\x9f\\x14L\\x97\\xcd<\\xae\\xc1\\x98\\xb9\\x16:\\xb8\\xd8\\x8c\\xf9Z3sZ\\xca|Z\\xffk\\x05r\\xe1.\\xd7\\xd9\\x95\\x15\\xb2\\xbb\\x9c\\xc49=2\\xac\\xf6\\xaaG\\xea\\x94\\x80\\xdf1\\xb6+\\xa6\\xe1\\xcc\\x1e\\x0c\\xfb\\xed\\xd1\\xe0\\x9dR^\\x94\\xeb\\xb4\\x80\\x10\\x92\\xfa:\\xcc(\\xf4\\x9c\\x0f\\x04\\x8c\\xe5\\xa6Z\\xf4;\\xde\\xae\\xb2\\x155j\\x03\\x9a\\xb7\\xbd2&\\x80\\x92\\x98\\xef\\x19G \\x15z`g\\x88\\rx\\xb8_\\xb9n\\x9a\\xfb\\xb8U,\\xa5\\xea\\x10\\xb7\\x96\\xc6\\xd0d\\xdc)\\xfeD\\n\\xcfx\\x95\\xaf\\x88\\x11W\\xdb\\xa7\\x05]\\x9f\\xf4\\x9c\\x90|QB\\xb1\\xcc\\xf1o\\xd5ak\\xfd\\x05\\xd8\\xee\\x827\\x84\\xb7#\\x8f\\x1fcw\\x17\\xc7\\xb8[fo\\xde\\xd4\\x1b;\\x87\\t\\x8a*\\\\R\\xd5\\xe3`\\xbe\\xbd\\x06\\xdb\\x93\\x15\\x04?wou\\xe6\\x92K2\\xcc\\xbc\\xc9M\\xe9\\xa0\\xbd\\xab!\\xeez\\x9e\\x9a\\x8c\\xde\\x149&\\x98&\\x14,\\xba\\xa9\\x99L\\xa7\\xf8\\xea\\xf3g\\xe7\\x1d\\x8f\\x01G\\xc2\\xfd\\nz\\xa3\\xc7\\xc5o'\n",
            "Decrypted Data: Sensitive Data\n"
          ]
        }
      ]
    },
    {
      "cell_type": "code",
      "source": [],
      "metadata": {
        "id": "X927M0iZ53Ly"
      },
      "execution_count": null,
      "outputs": []
    }
  ]
}